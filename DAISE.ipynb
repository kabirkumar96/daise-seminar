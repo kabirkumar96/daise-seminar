{
 "cells": [
  {
   "cell_type": "code",
   "execution_count": null,
   "id": "1fdbacc4-bf55-48e0-916e-0861f3eb97d1",
   "metadata": {},
   "outputs": [],
   "source": []
  }
 ],
 "metadata": {
  "kernelspec": {
   "display_name": "PraktikumMLCMS",
   "language": "python",
   "name": "praktikummlcms"
  },
  "language_info": {
   "codemirror_mode": {
    "name": "ipython",
    "version": 3
   },
   "file_extension": ".py",
   "mimetype": "text/x-python",
   "name": "python",
   "nbconvert_exporter": "python",
   "pygments_lexer": "ipython3",
   "version": "3.10.6"
  }
 },
 "nbformat": 4,
 "nbformat_minor": 5
}
