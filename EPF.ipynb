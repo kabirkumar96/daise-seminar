{
 "cells": [
  {
   "cell_type": "code",
   "execution_count": 30,
   "id": "f6bf1ff4-7bf8-43e7-83b7-e8dc411ec7ee",
   "metadata": {},
   "outputs": [
    {
     "name": "stdout",
     "output_type": "stream",
     "text": [
      "The autoreload extension is already loaded. To reload it, use:\n",
      "  %reload_ext autoreload\n"
     ]
    }
   ],
   "source": [
    "import os\n",
    "import numpy as np\n",
    "import pandas as pd\n",
    "from torch.utils.data import DataLoader\n",
    "from utils import nn_utils, nn_architectures\n",
    "from sklearn.model_selection import train_test_split\n",
    "import matplotlib.pyplot as plt\n",
    "from sklearn import preprocessing\n",
    "\n",
    "%load_ext autoreload\n",
    "%autoreload 2"
   ]
  },
  {
   "cell_type": "code",
   "execution_count": 31,
   "id": "1d1526e0-06d1-4a9b-825a-e7015555d44c",
   "metadata": {},
   "outputs": [],
   "source": [
    "# project_path = os.path.dirname(os.path.abspath(os.getcwd())) #85\n",
    "dataset_path_NO_AT = os.path.join(\"datasets\", \"DE_EPF_dataset.csv\")\n",
    "dataset_path_WITH_AT = os.path.join(\"datasets\", \"DE_AT_EPF_dataset.csv\")\n",
    "\n",
    "dataset_no_at = pd.read_csv(dataset_path_NO_AT)\n",
    "dataset_w_at = pd.read_csv(dataset_path_WITH_AT)\n"
   ]
  },
  {
   "cell_type": "code",
   "execution_count": 32,
   "id": "f2247e05-caae-44fb-bd8b-7c0e862d5cae",
   "metadata": {},
   "outputs": [],
   "source": [
    "dataset_w_at = dataset_w_at.drop('Date', axis = 1)"
   ]
  },
  {
   "cell_type": "code",
   "execution_count": 33,
   "id": "5e99f707-61cf-46c1-a0f5-d1861159480a",
   "metadata": {},
   "outputs": [
    {
     "data": {
      "text/plain": [
       "[<matplotlib.lines.Line2D at 0x7fcfa1a61ff0>]"
      ]
     },
     "execution_count": 33,
     "metadata": {},
     "output_type": "execute_result"
    },
    {
     "data": {
      "image/png": "[encoded data removed]",
      "text/plain": [
       "<Figure size 432x288 with 1 Axes>"
      ]
     },
     "metadata": {
      "needs_background": "light"
     },
     "output_type": "display_data"
    }
   ],
   "source": [
    "plt.plot(range(2000), np.array(dataset_w_at['DE_H21'])[:2000])"
   ]
  },
  {
   "cell_type": "code",
   "execution_count": 34,
   "id": "7d4a9719-32b2-481c-98e7-41e0d66d913d",
   "metadata": {},
   "outputs": [
    {
     "data": {
      "text/plain": [
       "(3092, 194)"
      ]
     },
     "execution_count": 34,
     "metadata": {},
     "output_type": "execute_result"
    }
   ],
   "source": [
    "arch = nn_architectures.get_arch(146, [320,200])\n",
    "dataset_w_at = np.array(dataset_w_at)\n",
    "# np.array(data_train)[:,:-24].shape\n",
    "dataset_w_at.shape"
   ]
  },
  {
   "cell_type": "code",
   "execution_count": 46,
   "id": "1231037f-0521-4361-ad0b-582966e685ba",
   "metadata": {},
   "outputs": [],
   "source": [
    "data_train, data_test = train_test_split(dataset_w_at, test_size = 0.8, random_state = 42)\n",
    "\n",
    "#scale the data to [-1,1]\n",
    "minmax_scale = preprocessing.MinMaxScaler(feature_range=(-1, 1))\n",
    "\n",
    "data_train = minmax_scale.fit_transform(data_train)\n",
    "data_test = minmax_scale.transform(data_test)"
   ]
  },
  {
   "cell_type": "code",
   "execution_count": 47,
   "id": "d6a53136-71a1-404a-8088-4ebf6405cc87",
   "metadata": {},
   "outputs": [
    {
     "data": {
      "text/plain": [
       "array([[ 0.47326242,  0.37059763,  0.11391159, ..., -1.        ,\n",
       "        -1.        , -1.        ],\n",
       "       [-0.7925681 , -0.8114516 , -0.83914228, ..., -1.        ,\n",
       "        -1.        , -1.        ],\n",
       "       [-0.78915403, -0.78737928, -0.80557167, ..., -1.        ,\n",
       "        -1.        , -1.        ],\n",
       "       ...,\n",
       "       [-0.88237619, -0.88337811, -0.85541788, ..., -1.        ,\n",
       "        -1.        , -1.        ],\n",
       "       [-0.19859125, -0.2337884 , -0.2802531 , ..., -1.        ,\n",
       "        -1.        , -1.        ],\n",
       "       [-0.78034931, -0.77528865, -0.78718692, ..., -1.        ,\n",
       "        -1.        , -1.        ]])"
      ]
     },
     "execution_count": 47,
     "metadata": {},
     "output_type": "execute_result"
    }
   ],
   "source": [
    "data_test"
   ]
  },
  {
   "cell_type": "code",
   "execution_count": 50,
   "id": "e9b4376e-9dab-4db0-b2f3-bd4c8347708f",
   "metadata": {},
   "outputs": [
    {
     "name": "stdout",
     "output_type": "stream",
     "text": [
      "--------------------------------\n",
      "FOLD 0\n",
      "--------------------------------\n",
      "Reset trainable parameters of layer = Linear(in_features=146, out_features=320, bias=True)\n",
      "Reset trainable parameters of layer = Linear(in_features=320, out_features=200, bias=True)\n",
      "Reset trainable parameters of layer = Linear(in_features=200, out_features=48, bias=True)\n",
      "Starting epoch 1\n",
      "Starting epoch 2\n",
      "Starting epoch 3\n",
      "Starting epoch 4\n",
      "Starting epoch 5\n",
      "Starting epoch 6\n",
      "Starting epoch 7\n",
      "Starting epoch 8\n",
      "Starting epoch 9\n",
      "Starting epoch 10\n",
      "Starting epoch 11\n",
      "Starting epoch 12\n",
      "Starting epoch 13\n",
      "Starting epoch 14\n",
      "Starting epoch 15\n",
      "Starting epoch 16\n",
      "Starting epoch 17\n",
      "Starting epoch 18\n",
      "Starting epoch 19\n",
      "Starting epoch 20\n",
      "Starting epoch 21\n",
      "Starting epoch 22\n",
      "Starting epoch 23\n",
      "Starting epoch 24\n",
      "Starting epoch 25\n",
      "Starting epoch 26\n",
      "Starting epoch 27\n",
      "Starting epoch 28\n",
      "Starting epoch 29\n",
      "Starting epoch 30\n",
      "Starting epoch 31\n",
      "Starting epoch 32\n",
      "Starting epoch 33\n",
      "Starting epoch 34\n",
      "Starting epoch 35\n",
      "Starting epoch 36\n",
      "Starting epoch 37\n",
      "Starting epoch 38\n",
      "Starting epoch 39\n",
      "Starting epoch 40\n",
      "Starting epoch 41\n",
      "Starting epoch 42\n",
      "Early stopping\n",
      "The current loss: 0.055545078590512276\n",
      "FOLD 1\n",
      "--------------------------------\n",
      "Reset trainable parameters of layer = Linear(in_features=146, out_features=320, bias=True)\n",
      "Reset trainable parameters of layer = Linear(in_features=320, out_features=200, bias=True)\n",
      "Reset trainable parameters of layer = Linear(in_features=200, out_features=48, bias=True)\n",
      "Starting epoch 1\n",
      "Starting epoch 2\n",
      "Starting epoch 3\n",
      "Starting epoch 4\n",
      "Starting epoch 5\n",
      "Starting epoch 6\n",
      "Starting epoch 7\n",
      "Starting epoch 8\n",
      "Starting epoch 9\n",
      "Starting epoch 10\n",
      "Starting epoch 11\n",
      "Starting epoch 12\n",
      "Starting epoch 13\n",
      "Starting epoch 14\n",
      "Starting epoch 15\n",
      "Starting epoch 16\n",
      "Starting epoch 17\n",
      "Starting epoch 18\n",
      "Starting epoch 19\n",
      "Starting epoch 20\n",
      "Starting epoch 21\n",
      "Starting epoch 22\n",
      "Starting epoch 23\n",
      "Starting epoch 24\n",
      "Starting epoch 25\n",
      "Starting epoch 26\n",
      "Starting epoch 27\n",
      "Starting epoch 28\n",
      "Starting epoch 29\n",
      "Starting epoch 30\n",
      "Starting epoch 31\n",
      "Starting epoch 32\n",
      "Starting epoch 33\n",
      "Starting epoch 34\n",
      "Starting epoch 35\n",
      "Starting epoch 36\n",
      "Starting epoch 37\n",
      "Starting epoch 38\n",
      "Starting epoch 39\n",
      "Starting epoch 40\n",
      "Starting epoch 41\n",
      "Starting epoch 42\n",
      "Starting epoch 43\n",
      "Starting epoch 44\n",
      "Starting epoch 45\n",
      "Starting epoch 46\n",
      "Starting epoch 47\n",
      "Starting epoch 48\n",
      "Starting epoch 49\n",
      "Starting epoch 50\n",
      "Starting epoch 51\n",
      "Starting epoch 52\n",
      "Starting epoch 53\n",
      "Early stopping\n",
      "The current loss: 0.047467672266066074\n"
     ]
    },
    {
     "data": {
      "text/plain": [
       "{'tr': 0.036788420751690865,\n",
       " 'val': 0.051506375428289175,\n",
       " 'test': 0.050572847756437764}"
      ]
     },
     "execution_count": 50,
     "metadata": {},
     "output_type": "execute_result"
    }
   ],
   "source": [
    "nn_utils.main(data_train, data_test, arch)"
   ]
  },
  {
   "cell_type": "code",
   "execution_count": null,
   "id": "ee8bc9dc-ef56-4cb0-bf97-7313d03ff1f6",
   "metadata": {},
   "outputs": [],
   "source": []
  }
 ],
 "metadata": {
  "kernelspec": {
   "display_name": "PraktikumMLCMS",
   "language": "python",
   "name": "praktikummlcms"
  },
  "language_info": {
   "codemirror_mode": {
    "name": "ipython",
    "version": 3
   },
   "file_extension": ".py",
   "mimetype": "text/x-python",
   "name": "python",
   "nbconvert_exporter": "python",
   "pygments_lexer": "ipython3",
   "version": "3.10.6"
  }
 },
 "nbformat": 4,
 "nbformat_minor": 5
}
